{
  "nbformat": 4,
  "nbformat_minor": 0,
  "metadata": {
    "colab": {
      "name": "Modelling.ipynb",
      "provenance": []
    },
    "kernelspec": {
      "name": "python3",
      "display_name": "Python 3"
    },
    "language_info": {
      "name": "python"
    }
  },
  "cells": [
    {
      "cell_type": "code",
      "execution_count": 3,
      "metadata": {
        "colab": {
          "base_uri": "https://localhost:8080/"
        },
        "id": "npzJtaiN2U6I",
        "outputId": "723a097f-34a4-4104-ad9f-07586328c2b9"
      },
      "outputs": [
        {
          "output_type": "stream",
          "name": "stdout",
          "text": [
            "<class 'pandas.core.frame.DataFrame'>\n",
            "RangeIndex: 37675 entries, 0 to 37674\n",
            "Data columns (total 40 columns):\n",
            " #   Column                               Non-Null Count  Dtype  \n",
            "---  ------                               --------------  -----  \n",
            " 0   Unnamed: 0                           37675 non-null  int64  \n",
            " 1   Unnamed: 0.1                         37675 non-null  int64  \n",
            " 2   loan_amnt                            37675 non-null  float64\n",
            " 3   int_rate                             37675 non-null  float64\n",
            " 4   installment                          37675 non-null  float64\n",
            " 5   emp_length                           37675 non-null  int64  \n",
            " 6   annual_inc                           37675 non-null  float64\n",
            " 7   loan_status                          37675 non-null  int64  \n",
            " 8   dti                                  37675 non-null  float64\n",
            " 9   delinq_2yrs                          37675 non-null  float64\n",
            " 10  inq_last_6mths                       37675 non-null  float64\n",
            " 11  open_acc                             37675 non-null  float64\n",
            " 12  pub_rec                              37675 non-null  float64\n",
            " 13  revol_bal                            37675 non-null  float64\n",
            " 14  revol_util                           37675 non-null  float64\n",
            " 15  total_acc                            37675 non-null  float64\n",
            " 16  home_ownership_MORTGAGE              37675 non-null  int64  \n",
            " 17  home_ownership_NONE                  37675 non-null  int64  \n",
            " 18  home_ownership_OTHER                 37675 non-null  int64  \n",
            " 19  home_ownership_OWN                   37675 non-null  int64  \n",
            " 20  home_ownership_RENT                  37675 non-null  int64  \n",
            " 21  verification_status_Not Verified     37675 non-null  int64  \n",
            " 22  verification_status_Source Verified  37675 non-null  int64  \n",
            " 23  verification_status_Verified         37675 non-null  int64  \n",
            " 24  purpose_car                          37675 non-null  int64  \n",
            " 25  purpose_credit_card                  37675 non-null  int64  \n",
            " 26  purpose_debt_consolidation           37675 non-null  int64  \n",
            " 27  purpose_educational                  37675 non-null  int64  \n",
            " 28  purpose_home_improvement             37675 non-null  int64  \n",
            " 29  purpose_house                        37675 non-null  int64  \n",
            " 30  purpose_major_purchase               37675 non-null  int64  \n",
            " 31  purpose_medical                      37675 non-null  int64  \n",
            " 32  purpose_moving                       37675 non-null  int64  \n",
            " 33  purpose_other                        37675 non-null  int64  \n",
            " 34  purpose_renewable_energy             37675 non-null  int64  \n",
            " 35  purpose_small_business               37675 non-null  int64  \n",
            " 36  purpose_vacation                     37675 non-null  int64  \n",
            " 37  purpose_wedding                      37675 non-null  int64  \n",
            " 38  term_ 36 months                      37675 non-null  int64  \n",
            " 39  term_ 60 months                      37675 non-null  int64  \n",
            "dtypes: float64(12), int64(28)\n",
            "memory usage: 11.5 MB\n",
            "None\n"
          ]
        }
      ],
      "source": [
        "import pandas as pd\n",
        "loans = pd.read_csv(\"/content/prepared_loans.csv\")\n",
        "print(loans.info())"
      ]
    },
    {
      "cell_type": "code",
      "source": [
        "cols = ['Unnamed: 0', 'Unnamed: 0.1']\n",
        "loans=loans.drop(cols, axis=1)"
      ],
      "metadata": {
        "id": "EmgtGN4g6QgS"
      },
      "execution_count": 20,
      "outputs": []
    },
    {
      "cell_type": "markdown",
      "source": [
        "# Define the error metrics\n",
        "The problem for this project is binary, since a loan is either paid on time or not. Therefore, it is interesting to consider true positive and false positive rates.\n",
        "\n",
        "Also, it must be noted that there is a imbalance in the dataset, as most of the loans were paid on time, hence the choice of true positive and false positive rates as error metrics."
      ],
      "metadata": {
        "id": "_p4A51Nx3msb"
      }
    },
    {
      "cell_type": "markdown",
      "source": [
        "# Logistic regression\n"
      ],
      "metadata": {
        "id": "Zlj53CDL3tzI"
      }
    },
    {
      "cell_type": "code",
      "source": [
        "from sklearn.linear_model import LogisticRegression\n",
        "\n",
        "lr = LogisticRegression()\n",
        "cols = loans.columns\n",
        "train_cols = cols.drop(\"loan_status\")\n",
        "features = loans[train_cols]\n",
        "target = loans[\"loan_status\"]\n",
        "lr.fit(features, target)\n",
        "predictions = lr.predict(features)"
      ],
      "metadata": {
        "colab": {
          "base_uri": "https://localhost:8080/"
        },
        "id": "1-AOL03P3PO5",
        "outputId": "0b600178-9c77-4c2e-aba9-59a680e0777f"
      },
      "execution_count": 21,
      "outputs": [
        {
          "output_type": "stream",
          "name": "stderr",
          "text": [
            "/usr/local/lib/python3.7/dist-packages/sklearn/linear_model/_logistic.py:818: ConvergenceWarning: lbfgs failed to converge (status=1):\n",
            "STOP: TOTAL NO. of ITERATIONS REACHED LIMIT.\n",
            "\n",
            "Increase the number of iterations (max_iter) or scale the data as shown in:\n",
            "    https://scikit-learn.org/stable/modules/preprocessing.html\n",
            "Please also refer to the documentation for alternative solver options:\n",
            "    https://scikit-learn.org/stable/modules/linear_model.html#logistic-regression\n",
            "  extra_warning_msg=_LOGISTIC_SOLVER_CONVERGENCE_MSG,\n"
          ]
        }
      ]
    },
    {
      "cell_type": "markdown",
      "source": [
        "# Perform k-fold cross validation to reduce overfitting\n"
      ],
      "metadata": {
        "id": "gLL4hji85uGi"
      }
    },
    {
      "cell_type": "code",
      "source": [
        "from sklearn.model_selection import cross_val_predict\n",
        "\n",
        "lr = LogisticRegression()\n",
        "predictions = cross_val_predict(lr, features, target, cv=3)\n",
        "predictions = pd.Series(predictions)\n",
        "\n",
        "# False positives.\n",
        "fp_filter = (predictions == 1) & (loans[\"loan_status\"] == 0)\n",
        "fp = len(predictions[fp_filter])\n",
        "\n",
        "# True positives.\n",
        "tp_filter = (predictions == 1) & (loans[\"loan_status\"] == 1)\n",
        "tp = len(predictions[tp_filter])\n",
        "\n",
        "# False negatives.\n",
        "fn_filter = (predictions == 0) & (loans[\"loan_status\"] == 1)\n",
        "fn = len(predictions[fn_filter])\n",
        "\n",
        "# True negatives\n",
        "tn_filter = (predictions == 0) & (loans[\"loan_status\"] == 0)\n",
        "tn = len(predictions[tn_filter])\n",
        "\n",
        "# Rates\n",
        "tpr = tp / (tp + fn)\n",
        "fpr = fp / (fp + tn)\n",
        "\n"
      ],
      "metadata": {
        "colab": {
          "base_uri": "https://localhost:8080/"
        },
        "id": "joYgqTEY3PKB",
        "outputId": "657de1be-8b70-4e53-e040-3edafb06d780"
      },
      "execution_count": 22,
      "outputs": [
        {
          "output_type": "stream",
          "name": "stderr",
          "text": [
            "/usr/local/lib/python3.7/dist-packages/sklearn/linear_model/_logistic.py:818: ConvergenceWarning: lbfgs failed to converge (status=1):\n",
            "STOP: TOTAL NO. of ITERATIONS REACHED LIMIT.\n",
            "\n",
            "Increase the number of iterations (max_iter) or scale the data as shown in:\n",
            "    https://scikit-learn.org/stable/modules/preprocessing.html\n",
            "Please also refer to the documentation for alternative solver options:\n",
            "    https://scikit-learn.org/stable/modules/linear_model.html#logistic-regression\n",
            "  extra_warning_msg=_LOGISTIC_SOLVER_CONVERGENCE_MSG,\n",
            "/usr/local/lib/python3.7/dist-packages/sklearn/linear_model/_logistic.py:818: ConvergenceWarning: lbfgs failed to converge (status=1):\n",
            "STOP: TOTAL NO. of ITERATIONS REACHED LIMIT.\n",
            "\n",
            "Increase the number of iterations (max_iter) or scale the data as shown in:\n",
            "    https://scikit-learn.org/stable/modules/preprocessing.html\n",
            "Please also refer to the documentation for alternative solver options:\n",
            "    https://scikit-learn.org/stable/modules/linear_model.html#logistic-regression\n",
            "  extra_warning_msg=_LOGISTIC_SOLVER_CONVERGENCE_MSG,\n"
          ]
        }
      ]
    },
    {
      "cell_type": "code",
      "source": [
        "print(tpr)\n",
        "print(fpr)"
      ],
      "metadata": {
        "colab": {
          "base_uri": "https://localhost:8080/"
        },
        "id": "Ac-QIop_3PHT",
        "outputId": "aa35dbac-77a8-41d7-8050-c6a1ac31448c"
      },
      "execution_count": 23,
      "outputs": [
        {
          "output_type": "stream",
          "name": "stdout",
          "text": [
            "0.9986062070247166\n",
            "0.9968454258675079\n"
          ]
        }
      ]
    },
    {
      "cell_type": "markdown",
      "source": [
        "The rates obtained above are not very good, since it is as if the model is predicting that all loans are paid. This is due to class imbalance. Therefore, we must modify the class_weight parameter of the model to overcome this issue."
      ],
      "metadata": {
        "id": "P9Xhhqx76rmk"
      }
    },
    {
      "cell_type": "markdown",
      "source": [
        "# Logistic regression with balanced class weight\n"
      ],
      "metadata": {
        "id": "L7xCQ9oR6w8Q"
      }
    },
    {
      "cell_type": "code",
      "source": [
        "lr = LogisticRegression(class_weight=\"balanced\")\n",
        "predictions = cross_val_predict(lr, features, target, cv=3)\n",
        "predictions = pd.Series(predictions)\n",
        "\n",
        "# False positives.\n",
        "fp_filter = (predictions == 1) & (loans[\"loan_status\"] == 0)\n",
        "fp = len(predictions[fp_filter])\n",
        "\n",
        "# True positives.\n",
        "tp_filter = (predictions == 1) & (loans[\"loan_status\"] == 1)\n",
        "tp = len(predictions[tp_filter])\n",
        "\n",
        "# False negatives.\n",
        "fn_filter = (predictions == 0) & (loans[\"loan_status\"] == 1)\n",
        "fn = len(predictions[fn_filter])\n",
        "\n",
        "# True negatives\n",
        "tn_filter = (predictions == 0) & (loans[\"loan_status\"] == 0)\n",
        "tn = len(predictions[tn_filter])\n",
        "\n",
        "# Rates\n",
        "tpr = tp / (tp + fn)\n",
        "fpr = fp / (fp + tn)\n",
        "\n",
        "print(tpr)\n",
        "print(fpr)"
      ],
      "metadata": {
        "colab": {
          "base_uri": "https://localhost:8080/"
        },
        "id": "qGixUvKq3O9S",
        "outputId": "d4e2384b-d547-4d98-c203-89ff1865d679"
      },
      "execution_count": 26,
      "outputs": [
        {
          "output_type": "stream",
          "name": "stderr",
          "text": [
            "/usr/local/lib/python3.7/dist-packages/sklearn/linear_model/_logistic.py:818: ConvergenceWarning: lbfgs failed to converge (status=1):\n",
            "STOP: TOTAL NO. of ITERATIONS REACHED LIMIT.\n",
            "\n",
            "Increase the number of iterations (max_iter) or scale the data as shown in:\n",
            "    https://scikit-learn.org/stable/modules/preprocessing.html\n",
            "Please also refer to the documentation for alternative solver options:\n",
            "    https://scikit-learn.org/stable/modules/linear_model.html#logistic-regression\n",
            "  extra_warning_msg=_LOGISTIC_SOLVER_CONVERGENCE_MSG,\n",
            "/usr/local/lib/python3.7/dist-packages/sklearn/linear_model/_logistic.py:818: ConvergenceWarning: lbfgs failed to converge (status=1):\n",
            "STOP: TOTAL NO. of ITERATIONS REACHED LIMIT.\n",
            "\n",
            "Increase the number of iterations (max_iter) or scale the data as shown in:\n",
            "    https://scikit-learn.org/stable/modules/preprocessing.html\n",
            "Please also refer to the documentation for alternative solver options:\n",
            "    https://scikit-learn.org/stable/modules/linear_model.html#logistic-regression\n",
            "  extra_warning_msg=_LOGISTIC_SOLVER_CONVERGENCE_MSG,\n"
          ]
        },
        {
          "output_type": "stream",
          "name": "stdout",
          "text": [
            "0.567831258130459\n",
            "0.3802189645574318\n"
          ]
        },
        {
          "output_type": "stream",
          "name": "stderr",
          "text": [
            "/usr/local/lib/python3.7/dist-packages/sklearn/linear_model/_logistic.py:818: ConvergenceWarning: lbfgs failed to converge (status=1):\n",
            "STOP: TOTAL NO. of ITERATIONS REACHED LIMIT.\n",
            "\n",
            "Increase the number of iterations (max_iter) or scale the data as shown in:\n",
            "    https://scikit-learn.org/stable/modules/preprocessing.html\n",
            "Please also refer to the documentation for alternative solver options:\n",
            "    https://scikit-learn.org/stable/modules/linear_model.html#logistic-regression\n",
            "  extra_warning_msg=_LOGISTIC_SOLVER_CONVERGENCE_MSG,\n"
          ]
        }
      ]
    },
    {
      "cell_type": "code",
      "source": [
        "print(tpr)\n",
        "print(fpr)"
      ],
      "metadata": {
        "colab": {
          "base_uri": "https://localhost:8080/"
        },
        "id": "OvfLf5T26vEI",
        "outputId": "6316d6fa-2cfb-4b25-c322-31095e6e2c77"
      },
      "execution_count": 25,
      "outputs": [
        {
          "output_type": "stream",
          "name": "stdout",
          "text": [
            "0.567831258130459\n",
            "0.3802189645574318\n"
          ]
        }
      ]
    },
    {
      "cell_type": "markdown",
      "source": [
        "The false positive rate was successfully lowered. However, let's try to reduce it even more.\n",
        "\n"
      ],
      "metadata": {
        "id": "7beHvvve7Blw"
      }
    },
    {
      "cell_type": "markdown",
      "source": [
        "# Logistic regression with penalty\n"
      ],
      "metadata": {
        "id": "v9PCJ-8E7GvA"
      }
    },
    {
      "cell_type": "code",
      "source": [
        "penalty = {\n",
        "    0: 10,\n",
        "    1: 1\n",
        "}\n",
        "\n",
        "lr = LogisticRegression(class_weight=penalty)\n",
        "predictions = cross_val_predict(lr, features, target, cv=3)\n",
        "predictions = pd.Series(predictions)\n",
        "\n",
        "# False positives.\n",
        "fp_filter = (predictions == 1) & (loans[\"loan_status\"] == 0)\n",
        "fp = len(predictions[fp_filter])\n",
        "\n",
        "# True positives.\n",
        "tp_filter = (predictions == 1) & (loans[\"loan_status\"] == 1)\n",
        "tp = len(predictions[tp_filter])\n",
        "\n",
        "# False negatives.\n",
        "fn_filter = (predictions == 0) & (loans[\"loan_status\"] == 1)\n",
        "fn = len(predictions[fn_filter])\n",
        "\n",
        "# True negatives\n",
        "tn_filter = (predictions == 0) & (loans[\"loan_status\"] == 0)\n",
        "tn = len(predictions[tn_filter])\n",
        "\n",
        "# Rates\n",
        "tpr = tp / (tp + fn)\n",
        "fpr = fp / (fp + tn)\n",
        "\n"
      ],
      "metadata": {
        "colab": {
          "base_uri": "https://localhost:8080/"
        },
        "id": "5nUuhOFu66GW",
        "outputId": "84f364b5-23fa-4a8d-ac88-f039c6ba05be"
      },
      "execution_count": 28,
      "outputs": [
        {
          "output_type": "stream",
          "name": "stderr",
          "text": [
            "/usr/local/lib/python3.7/dist-packages/sklearn/linear_model/_logistic.py:818: ConvergenceWarning: lbfgs failed to converge (status=1):\n",
            "STOP: TOTAL NO. of ITERATIONS REACHED LIMIT.\n",
            "\n",
            "Increase the number of iterations (max_iter) or scale the data as shown in:\n",
            "    https://scikit-learn.org/stable/modules/preprocessing.html\n",
            "Please also refer to the documentation for alternative solver options:\n",
            "    https://scikit-learn.org/stable/modules/linear_model.html#logistic-regression\n",
            "  extra_warning_msg=_LOGISTIC_SOLVER_CONVERGENCE_MSG,\n",
            "/usr/local/lib/python3.7/dist-packages/sklearn/linear_model/_logistic.py:818: ConvergenceWarning: lbfgs failed to converge (status=1):\n",
            "STOP: TOTAL NO. of ITERATIONS REACHED LIMIT.\n",
            "\n",
            "Increase the number of iterations (max_iter) or scale the data as shown in:\n",
            "    https://scikit-learn.org/stable/modules/preprocessing.html\n",
            "Please also refer to the documentation for alternative solver options:\n",
            "    https://scikit-learn.org/stable/modules/linear_model.html#logistic-regression\n",
            "  extra_warning_msg=_LOGISTIC_SOLVER_CONVERGENCE_MSG,\n"
          ]
        }
      ]
    },
    {
      "cell_type": "code",
      "source": [
        "print(tpr)\n",
        "print(fpr)"
      ],
      "metadata": {
        "colab": {
          "base_uri": "https://localhost:8080/"
        },
        "id": "sor8ek2466Dn",
        "outputId": "30e00dfd-f11f-46e5-ab80-544ea7666c57"
      },
      "execution_count": 29,
      "outputs": [
        {
          "output_type": "stream",
          "name": "stdout",
          "text": [
            "0.18314439695223936\n",
            "0.07812210057524586\n"
          ]
        }
      ]
    },
    {
      "cell_type": "markdown",
      "source": [
        "Although we managed to reduce the false positive rate to 9%, the true positive rate was also significantly lowered. From a conservative point of view, it is reassuring to know that most of the bad investments will be avoided. However, a greater true positive rate would be better."
      ],
      "metadata": {
        "id": "vWod5A8O7SbP"
      }
    },
    {
      "cell_type": "markdown",
      "source": [
        "# Random forest classifier"
      ],
      "metadata": {
        "id": "8P_0oQZK7Tng"
      }
    },
    {
      "cell_type": "code",
      "source": [
        "from sklearn.ensemble import RandomForestClassifier\n",
        "\n",
        "rf = RandomForestClassifier(class_weight=\"balanced\", random_state=1)\n",
        "predictions = cross_val_predict(rf, features, target, cv=3)\n",
        "predictions = pd.Series(predictions)\n",
        "\n",
        "# False positives.\n",
        "fp_filter = (predictions == 1) & (loans[\"loan_status\"] == 0)\n",
        "fp = len(predictions[fp_filter])\n",
        "\n",
        "# True positives.\n",
        "tp_filter = (predictions == 1) & (loans[\"loan_status\"] == 1)\n",
        "tp = len(predictions[tp_filter])\n",
        "\n",
        "# False negatives.\n",
        "fn_filter = (predictions == 0) & (loans[\"loan_status\"] == 1)\n",
        "fn = len(predictions[fn_filter])\n",
        "\n",
        "# True negatives\n",
        "tn_filter = (predictions == 0) & (loans[\"loan_status\"] == 0)\n",
        "tn = len(predictions[tn_filter])\n",
        "\n",
        "# Rates\n",
        "tpr = tp / (tp + fn)\n",
        "fpr = fp / (fp + tn)"
      ],
      "metadata": {
        "id": "gga_ZZDU6556"
      },
      "execution_count": 30,
      "outputs": []
    },
    {
      "cell_type": "code",
      "source": [
        "print(tpr)\n",
        "print(fpr)"
      ],
      "metadata": {
        "colab": {
          "base_uri": "https://localhost:8080/"
        },
        "id": "RfL23wED7bL_",
        "outputId": "a96ddabb-90dc-4fbe-c557-f764bc2d0fef"
      },
      "execution_count": 31,
      "outputs": [
        {
          "output_type": "stream",
          "name": "stdout",
          "text": [
            "0.9969336554543765\n",
            "0.9897940248654666\n"
          ]
        }
      ]
    },
    {
      "cell_type": "markdown",
      "source": [
        "Unfortunately, using a random forest classifier does not yield better results. Therefore, it is recommended to use a logistic regression model with penalty for a conservative investor who wishes to fund loans that will be paid on time."
      ],
      "metadata": {
        "id": "DxwtcCFc7gCG"
      }
    }
  ]
}